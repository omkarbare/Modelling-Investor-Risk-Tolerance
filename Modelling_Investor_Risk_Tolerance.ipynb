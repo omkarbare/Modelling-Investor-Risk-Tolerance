{
  "nbformat": 4,
  "nbformat_minor": 0,
  "metadata": {
    "colab": {
      "provenance": []
    },
    "kernelspec": {
      "name": "python3",
      "display_name": "Python 3"
    },
    "language_info": {
      "name": "python"
    }
  },
  "cells": [
    {
      "cell_type": "code",
      "execution_count": 1,
      "metadata": {
        "id": "QEiXoZ_O6wJN"
      },
      "outputs": [],
      "source": [
        "import numpy as np\n",
        "import pandas as pd\n",
        "import pandas_datareader.data as web\n",
        "import matplotlib.pyplot as plt\n",
        "from pandas.plotting import scatter_matrix\n",
        "import seaborn as sns\n",
        "import copy\n",
        "from sklearn.preprocessing import StandardScaler"
      ]
    },
    {
      "cell_type": "code",
      "source": [
        "import warnings\n",
        "warnings.filterwarnings('ignore')"
      ],
      "metadata": {
        "id": "o39yeI0Xx3bZ"
      },
      "execution_count": 2,
      "outputs": []
    },
    {
      "cell_type": "markdown",
      "source": [
        "# Data Exploration"
      ],
      "metadata": {
        "id": "UPgFYyW52oab"
      }
    },
    {
      "cell_type": "code",
      "source": [
        "# load dataset\n",
        "dataset = pd.read_excel('data.xlsx')"
      ],
      "metadata": {
        "id": "HhJtxGtKxo9y"
      },
      "execution_count": 4,
      "outputs": []
    },
    {
      "cell_type": "code",
      "source": [
        "dataset.shape"
      ],
      "metadata": {
        "colab": {
          "base_uri": "https://localhost:8080/"
        },
        "id": "aivFWKLtyoEn",
        "outputId": "1c46325d-95d4-4bae-c809-5538dfcddbc1"
      },
      "execution_count": 5,
      "outputs": [
        {
          "output_type": "execute_result",
          "data": {
            "text/plain": [
              "(19285, 515)"
            ]
          },
          "metadata": {},
          "execution_count": 5
        }
      ]
    },
    {
      "cell_type": "markdown",
      "source": [
        "\n",
        "Compute the Risky asset and the riskless assets for all the individuals in the survey data. Risky and riskless assets are defined as follows:\n",
        "\n",
        "Risky assets is investments in mutual funds, stocks, bonds, commodities, and\n",
        "real estate, and an estimate of human capital.\n",
        "\n",
        "Risk Free Assets: checking and savings balances,certificates of deposit, and other cash balances and equivalents.\n",
        "We take the ratio of risky assets to total assets of an investor and consider that as a measure of risk tolerance of an investor. From the data of SCF, we have the data of risky and riskless assets for the individuals for 2007 and 2009. We use this data and normalise the risky assets with the stock price of 2007 vs. 2009 to get risk tolerance.\n",
        "Risk Tolerance just defined as the ratio of Risky Asset to Riskless Assets normalised with the average S&P500 of 2007 vs 2009.\n",
        "\n",
        "Average S&P500 in 2007: 1478 Average S&P500 in 2009: 948"
      ],
      "metadata": {
        "id": "B2NqlDny0CGs"
      }
    },
    {
      "cell_type": "markdown",
      "source": [
        "Risk-Free: Sum of different risk-free assets , such as liquid assets (LIQ), credit default swaps (CDS), savings bonds (SAVBND), and cash-like assets (CASHLI).\n",
        "\n",
        "Risky: Sum of various risky assets in, including money market funds (NMMF), stocks (STOCKS), and bonds (BOND)."
      ],
      "metadata": {
        "id": "6009-ke40oMc"
      }
    },
    {
      "cell_type": "code",
      "source": [
        "#Average SP500 during 2007 and 2009\n",
        "Average_SP500_2007 = 1478\n",
        "Average_SP500_2009 = 948\n",
        "\n",
        "#Risk Tolerance 2007\n",
        "dataset['RiskFree07']= dataset['LIQ07'] + dataset['CDS07'] + dataset['SAVBND07'] + dataset['CASHLI07']\n",
        "dataset['Risky07'] = dataset['NMMF07'] + dataset['STOCKS07'] + dataset['BOND07']\n",
        "dataset['RT07'] = dataset['Risky07']/(dataset['Risky07']+dataset['RiskFree07'])\n",
        "\n",
        "#Risk Tolerance 2009\n",
        "dataset['RiskFree09']= dataset['LIQ09'] + dataset['CDS09'] + dataset['SAVBND09'] + dataset['CASHLI09']\n",
        "dataset['Risky09'] = dataset['NMMF09'] + dataset['STOCKS09'] + dataset['BOND09']\n",
        "dataset['RT09'] = dataset['Risky09']/(dataset['Risky09']+dataset['RiskFree09'])*\\\n",
        "                (Average_SP500_2009/Average_SP500_2007)"
      ],
      "metadata": {
        "id": "8rCWVpp3zbMU"
      },
      "execution_count": 10,
      "outputs": []
    },
    {
      "cell_type": "code",
      "source": [
        "dataset2 = copy.deepcopy(dataset)\n",
        "dataset.head()"
      ],
      "metadata": {
        "colab": {
          "base_uri": "https://localhost:8080/",
          "height": 255
        },
        "id": "ikFrkCypz2Gd",
        "outputId": "c11fe51b-ccd4-465b-df0b-6bd61a5773e2"
      },
      "execution_count": 11,
      "outputs": [
        {
          "output_type": "execute_result",
          "data": {
            "text/plain": [
              "   YY1  Y1         WGT09  AGE07  AGECL07  EDUC07  EDCL07  MARRIED07  KIDS07  \\\n",
              "0    1  11  11668.134198     47        3      12       2          1       0   \n",
              "1    1  12  11823.456494     47        3      12       2          1       0   \n",
              "2    1  13  11913.228354     47        3      12       2          1       0   \n",
              "3    1  14  11929.394266     47        3      12       2          1       0   \n",
              "4    1  15  11917.722907     47        3      12       2          1       0   \n",
              "\n",
              "   LIFECL07  ...  TRANSFOTHINCPCT  PSAVINGPCT  LEVERAGEPCT   I   RiskFree07  \\\n",
              "0         2  ...              0.0   93.125197   270.403054  57  7994.813847   \n",
              "1         2  ...              0.0   93.125197   249.593620  57  7994.813847   \n",
              "2         2  ...              0.0   93.125197   209.233358  57  7984.457871   \n",
              "3         2  ...              0.0   93.125197   209.273158  57  7984.457871   \n",
              "4         2  ...              0.0   93.125197   232.690767  57  7994.813847   \n",
              "\n",
              "   Risky07  RT07  RiskFree09  Risky09      RT09  \n",
              "0      0.0   0.0       16000    17000  0.330422  \n",
              "1      0.0   0.0       19000    18000  0.312036  \n",
              "2      0.0   0.0       13000    12000  0.307876  \n",
              "3      0.0   0.0       25000    13000  0.219429  \n",
              "4      0.0   0.0       17000    12000  0.265410  \n",
              "\n",
              "[5 rows x 521 columns]"
            ],
            "text/html": [
              "\n",
              "  <div id=\"df-13d7a621-3f41-4508-a156-86258da30372\" class=\"colab-df-container\">\n",
              "    <div>\n",
              "<style scoped>\n",
              "    .dataframe tbody tr th:only-of-type {\n",
              "        vertical-align: middle;\n",
              "    }\n",
              "\n",
              "    .dataframe tbody tr th {\n",
              "        vertical-align: top;\n",
              "    }\n",
              "\n",
              "    .dataframe thead th {\n",
              "        text-align: right;\n",
              "    }\n",
              "</style>\n",
              "<table border=\"1\" class=\"dataframe\">\n",
              "  <thead>\n",
              "    <tr style=\"text-align: right;\">\n",
              "      <th></th>\n",
              "      <th>YY1</th>\n",
              "      <th>Y1</th>\n",
              "      <th>WGT09</th>\n",
              "      <th>AGE07</th>\n",
              "      <th>AGECL07</th>\n",
              "      <th>EDUC07</th>\n",
              "      <th>EDCL07</th>\n",
              "      <th>MARRIED07</th>\n",
              "      <th>KIDS07</th>\n",
              "      <th>LIFECL07</th>\n",
              "      <th>...</th>\n",
              "      <th>TRANSFOTHINCPCT</th>\n",
              "      <th>PSAVINGPCT</th>\n",
              "      <th>LEVERAGEPCT</th>\n",
              "      <th>I</th>\n",
              "      <th>RiskFree07</th>\n",
              "      <th>Risky07</th>\n",
              "      <th>RT07</th>\n",
              "      <th>RiskFree09</th>\n",
              "      <th>Risky09</th>\n",
              "      <th>RT09</th>\n",
              "    </tr>\n",
              "  </thead>\n",
              "  <tbody>\n",
              "    <tr>\n",
              "      <th>0</th>\n",
              "      <td>1</td>\n",
              "      <td>11</td>\n",
              "      <td>11668.134198</td>\n",
              "      <td>47</td>\n",
              "      <td>3</td>\n",
              "      <td>12</td>\n",
              "      <td>2</td>\n",
              "      <td>1</td>\n",
              "      <td>0</td>\n",
              "      <td>2</td>\n",
              "      <td>...</td>\n",
              "      <td>0.0</td>\n",
              "      <td>93.125197</td>\n",
              "      <td>270.403054</td>\n",
              "      <td>57</td>\n",
              "      <td>7994.813847</td>\n",
              "      <td>0.0</td>\n",
              "      <td>0.0</td>\n",
              "      <td>16000</td>\n",
              "      <td>17000</td>\n",
              "      <td>0.330422</td>\n",
              "    </tr>\n",
              "    <tr>\n",
              "      <th>1</th>\n",
              "      <td>1</td>\n",
              "      <td>12</td>\n",
              "      <td>11823.456494</td>\n",
              "      <td>47</td>\n",
              "      <td>3</td>\n",
              "      <td>12</td>\n",
              "      <td>2</td>\n",
              "      <td>1</td>\n",
              "      <td>0</td>\n",
              "      <td>2</td>\n",
              "      <td>...</td>\n",
              "      <td>0.0</td>\n",
              "      <td>93.125197</td>\n",
              "      <td>249.593620</td>\n",
              "      <td>57</td>\n",
              "      <td>7994.813847</td>\n",
              "      <td>0.0</td>\n",
              "      <td>0.0</td>\n",
              "      <td>19000</td>\n",
              "      <td>18000</td>\n",
              "      <td>0.312036</td>\n",
              "    </tr>\n",
              "    <tr>\n",
              "      <th>2</th>\n",
              "      <td>1</td>\n",
              "      <td>13</td>\n",
              "      <td>11913.228354</td>\n",
              "      <td>47</td>\n",
              "      <td>3</td>\n",
              "      <td>12</td>\n",
              "      <td>2</td>\n",
              "      <td>1</td>\n",
              "      <td>0</td>\n",
              "      <td>2</td>\n",
              "      <td>...</td>\n",
              "      <td>0.0</td>\n",
              "      <td>93.125197</td>\n",
              "      <td>209.233358</td>\n",
              "      <td>57</td>\n",
              "      <td>7984.457871</td>\n",
              "      <td>0.0</td>\n",
              "      <td>0.0</td>\n",
              "      <td>13000</td>\n",
              "      <td>12000</td>\n",
              "      <td>0.307876</td>\n",
              "    </tr>\n",
              "    <tr>\n",
              "      <th>3</th>\n",
              "      <td>1</td>\n",
              "      <td>14</td>\n",
              "      <td>11929.394266</td>\n",
              "      <td>47</td>\n",
              "      <td>3</td>\n",
              "      <td>12</td>\n",
              "      <td>2</td>\n",
              "      <td>1</td>\n",
              "      <td>0</td>\n",
              "      <td>2</td>\n",
              "      <td>...</td>\n",
              "      <td>0.0</td>\n",
              "      <td>93.125197</td>\n",
              "      <td>209.273158</td>\n",
              "      <td>57</td>\n",
              "      <td>7984.457871</td>\n",
              "      <td>0.0</td>\n",
              "      <td>0.0</td>\n",
              "      <td>25000</td>\n",
              "      <td>13000</td>\n",
              "      <td>0.219429</td>\n",
              "    </tr>\n",
              "    <tr>\n",
              "      <th>4</th>\n",
              "      <td>1</td>\n",
              "      <td>15</td>\n",
              "      <td>11917.722907</td>\n",
              "      <td>47</td>\n",
              "      <td>3</td>\n",
              "      <td>12</td>\n",
              "      <td>2</td>\n",
              "      <td>1</td>\n",
              "      <td>0</td>\n",
              "      <td>2</td>\n",
              "      <td>...</td>\n",
              "      <td>0.0</td>\n",
              "      <td>93.125197</td>\n",
              "      <td>232.690767</td>\n",
              "      <td>57</td>\n",
              "      <td>7994.813847</td>\n",
              "      <td>0.0</td>\n",
              "      <td>0.0</td>\n",
              "      <td>17000</td>\n",
              "      <td>12000</td>\n",
              "      <td>0.265410</td>\n",
              "    </tr>\n",
              "  </tbody>\n",
              "</table>\n",
              "<p>5 rows × 521 columns</p>\n",
              "</div>\n",
              "    <div class=\"colab-df-buttons\">\n",
              "\n",
              "  <div class=\"colab-df-container\">\n",
              "    <button class=\"colab-df-convert\" onclick=\"convertToInteractive('df-13d7a621-3f41-4508-a156-86258da30372')\"\n",
              "            title=\"Convert this dataframe to an interactive table.\"\n",
              "            style=\"display:none;\">\n",
              "\n",
              "  <svg xmlns=\"http://www.w3.org/2000/svg\" height=\"24px\" viewBox=\"0 -960 960 960\">\n",
              "    <path d=\"M120-120v-720h720v720H120Zm60-500h600v-160H180v160Zm220 220h160v-160H400v160Zm0 220h160v-160H400v160ZM180-400h160v-160H180v160Zm440 0h160v-160H620v160ZM180-180h160v-160H180v160Zm440 0h160v-160H620v160Z\"/>\n",
              "  </svg>\n",
              "    </button>\n",
              "\n",
              "  <style>\n",
              "    .colab-df-container {\n",
              "      display:flex;\n",
              "      gap: 12px;\n",
              "    }\n",
              "\n",
              "    .colab-df-convert {\n",
              "      background-color: #E8F0FE;\n",
              "      border: none;\n",
              "      border-radius: 50%;\n",
              "      cursor: pointer;\n",
              "      display: none;\n",
              "      fill: #1967D2;\n",
              "      height: 32px;\n",
              "      padding: 0 0 0 0;\n",
              "      width: 32px;\n",
              "    }\n",
              "\n",
              "    .colab-df-convert:hover {\n",
              "      background-color: #E2EBFA;\n",
              "      box-shadow: 0px 1px 2px rgba(60, 64, 67, 0.3), 0px 1px 3px 1px rgba(60, 64, 67, 0.15);\n",
              "      fill: #174EA6;\n",
              "    }\n",
              "\n",
              "    .colab-df-buttons div {\n",
              "      margin-bottom: 4px;\n",
              "    }\n",
              "\n",
              "    [theme=dark] .colab-df-convert {\n",
              "      background-color: #3B4455;\n",
              "      fill: #D2E3FC;\n",
              "    }\n",
              "\n",
              "    [theme=dark] .colab-df-convert:hover {\n",
              "      background-color: #434B5C;\n",
              "      box-shadow: 0px 1px 3px 1px rgba(0, 0, 0, 0.15);\n",
              "      filter: drop-shadow(0px 1px 2px rgba(0, 0, 0, 0.3));\n",
              "      fill: #FFFFFF;\n",
              "    }\n",
              "  </style>\n",
              "\n",
              "    <script>\n",
              "      const buttonEl =\n",
              "        document.querySelector('#df-13d7a621-3f41-4508-a156-86258da30372 button.colab-df-convert');\n",
              "      buttonEl.style.display =\n",
              "        google.colab.kernel.accessAllowed ? 'block' : 'none';\n",
              "\n",
              "      async function convertToInteractive(key) {\n",
              "        const element = document.querySelector('#df-13d7a621-3f41-4508-a156-86258da30372');\n",
              "        const dataTable =\n",
              "          await google.colab.kernel.invokeFunction('convertToInteractive',\n",
              "                                                    [key], {});\n",
              "        if (!dataTable) return;\n",
              "\n",
              "        const docLinkHtml = 'Like what you see? Visit the ' +\n",
              "          '<a target=\"_blank\" href=https://colab.research.google.com/notebooks/data_table.ipynb>data table notebook</a>'\n",
              "          + ' to learn more about interactive tables.';\n",
              "        element.innerHTML = '';\n",
              "        dataTable['output_type'] = 'display_data';\n",
              "        await google.colab.output.renderOutput(dataTable, element);\n",
              "        const docLink = document.createElement('div');\n",
              "        docLink.innerHTML = docLinkHtml;\n",
              "        element.appendChild(docLink);\n",
              "      }\n",
              "    </script>\n",
              "  </div>\n",
              "\n",
              "\n",
              "<div id=\"df-7d81ff4e-b5d1-40b4-83bf-8a3cb4e9765b\">\n",
              "  <button class=\"colab-df-quickchart\" onclick=\"quickchart('df-7d81ff4e-b5d1-40b4-83bf-8a3cb4e9765b')\"\n",
              "            title=\"Suggest charts\"\n",
              "            style=\"display:none;\">\n",
              "\n",
              "<svg xmlns=\"http://www.w3.org/2000/svg\" height=\"24px\"viewBox=\"0 0 24 24\"\n",
              "     width=\"24px\">\n",
              "    <g>\n",
              "        <path d=\"M19 3H5c-1.1 0-2 .9-2 2v14c0 1.1.9 2 2 2h14c1.1 0 2-.9 2-2V5c0-1.1-.9-2-2-2zM9 17H7v-7h2v7zm4 0h-2V7h2v10zm4 0h-2v-4h2v4z\"/>\n",
              "    </g>\n",
              "</svg>\n",
              "  </button>\n",
              "\n",
              "<style>\n",
              "  .colab-df-quickchart {\n",
              "      --bg-color: #E8F0FE;\n",
              "      --fill-color: #1967D2;\n",
              "      --hover-bg-color: #E2EBFA;\n",
              "      --hover-fill-color: #174EA6;\n",
              "      --disabled-fill-color: #AAA;\n",
              "      --disabled-bg-color: #DDD;\n",
              "  }\n",
              "\n",
              "  [theme=dark] .colab-df-quickchart {\n",
              "      --bg-color: #3B4455;\n",
              "      --fill-color: #D2E3FC;\n",
              "      --hover-bg-color: #434B5C;\n",
              "      --hover-fill-color: #FFFFFF;\n",
              "      --disabled-bg-color: #3B4455;\n",
              "      --disabled-fill-color: #666;\n",
              "  }\n",
              "\n",
              "  .colab-df-quickchart {\n",
              "    background-color: var(--bg-color);\n",
              "    border: none;\n",
              "    border-radius: 50%;\n",
              "    cursor: pointer;\n",
              "    display: none;\n",
              "    fill: var(--fill-color);\n",
              "    height: 32px;\n",
              "    padding: 0;\n",
              "    width: 32px;\n",
              "  }\n",
              "\n",
              "  .colab-df-quickchart:hover {\n",
              "    background-color: var(--hover-bg-color);\n",
              "    box-shadow: 0 1px 2px rgba(60, 64, 67, 0.3), 0 1px 3px 1px rgba(60, 64, 67, 0.15);\n",
              "    fill: var(--button-hover-fill-color);\n",
              "  }\n",
              "\n",
              "  .colab-df-quickchart-complete:disabled,\n",
              "  .colab-df-quickchart-complete:disabled:hover {\n",
              "    background-color: var(--disabled-bg-color);\n",
              "    fill: var(--disabled-fill-color);\n",
              "    box-shadow: none;\n",
              "  }\n",
              "\n",
              "  .colab-df-spinner {\n",
              "    border: 2px solid var(--fill-color);\n",
              "    border-color: transparent;\n",
              "    border-bottom-color: var(--fill-color);\n",
              "    animation:\n",
              "      spin 1s steps(1) infinite;\n",
              "  }\n",
              "\n",
              "  @keyframes spin {\n",
              "    0% {\n",
              "      border-color: transparent;\n",
              "      border-bottom-color: var(--fill-color);\n",
              "      border-left-color: var(--fill-color);\n",
              "    }\n",
              "    20% {\n",
              "      border-color: transparent;\n",
              "      border-left-color: var(--fill-color);\n",
              "      border-top-color: var(--fill-color);\n",
              "    }\n",
              "    30% {\n",
              "      border-color: transparent;\n",
              "      border-left-color: var(--fill-color);\n",
              "      border-top-color: var(--fill-color);\n",
              "      border-right-color: var(--fill-color);\n",
              "    }\n",
              "    40% {\n",
              "      border-color: transparent;\n",
              "      border-right-color: var(--fill-color);\n",
              "      border-top-color: var(--fill-color);\n",
              "    }\n",
              "    60% {\n",
              "      border-color: transparent;\n",
              "      border-right-color: var(--fill-color);\n",
              "    }\n",
              "    80% {\n",
              "      border-color: transparent;\n",
              "      border-right-color: var(--fill-color);\n",
              "      border-bottom-color: var(--fill-color);\n",
              "    }\n",
              "    90% {\n",
              "      border-color: transparent;\n",
              "      border-bottom-color: var(--fill-color);\n",
              "    }\n",
              "  }\n",
              "</style>\n",
              "\n",
              "  <script>\n",
              "    async function quickchart(key) {\n",
              "      const quickchartButtonEl =\n",
              "        document.querySelector('#' + key + ' button');\n",
              "      quickchartButtonEl.disabled = true;  // To prevent multiple clicks.\n",
              "      quickchartButtonEl.classList.add('colab-df-spinner');\n",
              "      try {\n",
              "        const charts = await google.colab.kernel.invokeFunction(\n",
              "            'suggestCharts', [key], {});\n",
              "      } catch (error) {\n",
              "        console.error('Error during call to suggestCharts:', error);\n",
              "      }\n",
              "      quickchartButtonEl.classList.remove('colab-df-spinner');\n",
              "      quickchartButtonEl.classList.add('colab-df-quickchart-complete');\n",
              "    }\n",
              "    (() => {\n",
              "      let quickchartButtonEl =\n",
              "        document.querySelector('#df-7d81ff4e-b5d1-40b4-83bf-8a3cb4e9765b button');\n",
              "      quickchartButtonEl.style.display =\n",
              "        google.colab.kernel.accessAllowed ? 'block' : 'none';\n",
              "    })();\n",
              "  </script>\n",
              "</div>\n",
              "    </div>\n",
              "  </div>\n"
            ]
          },
          "metadata": {},
          "execution_count": 11
        }
      ]
    },
    {
      "cell_type": "markdown",
      "source": [
        "percentage change in risk tolerance between 2007 and 2009"
      ],
      "metadata": {
        "id": "zFNfOXX71P52"
      }
    },
    {
      "cell_type": "code",
      "source": [
        "dataset2['PercentageChange'] = np.abs(dataset2['RT09']/dataset2['RT07']-1)"
      ],
      "metadata": {
        "id": "2Hc8XAnOz5ot"
      },
      "execution_count": 13,
      "outputs": []
    },
    {
      "cell_type": "code",
      "source": [
        "# Drop the rows containing NA\n",
        "dataset2=dataset2.dropna(axis=0)\n",
        "\n",
        "dataset2=dataset2[~dataset2.isin([np.nan, np.inf, -np.inf]).any(1)]"
      ],
      "metadata": {
        "id": "F-_ewf3L1Txs"
      },
      "execution_count": 14,
      "outputs": []
    },
    {
      "cell_type": "code",
      "source": [
        "print('Null Values =',dataset2.isnull().values.any())"
      ],
      "metadata": {
        "colab": {
          "base_uri": "https://localhost:8080/"
        },
        "id": "RX0vtmJo1rqJ",
        "outputId": "991aedc1-c4a0-4f52-cbe9-f1fecc46e667"
      },
      "execution_count": 15,
      "outputs": [
        {
          "output_type": "stream",
          "name": "stdout",
          "text": [
            "Null Values = False\n"
          ]
        }
      ]
    },
    {
      "cell_type": "markdown",
      "source": [
        "plot the risk tolerance of 2007 and 2009."
      ],
      "metadata": {
        "id": "W9gZJxr21gxj"
      }
    },
    {
      "cell_type": "code",
      "source": [
        "sns.distplot(dataset2['RT07'], hist=True, kde=False,\n",
        "             bins=int(180/5), color = 'blue',\n",
        "             hist_kws={'edgecolor':'black'});"
      ],
      "metadata": {
        "colab": {
          "base_uri": "https://localhost:8080/",
          "height": 449
        },
        "id": "Pf8CAPoP1ceF",
        "outputId": "3103dc57-3395-498b-ba7b-86483ed02803"
      },
      "execution_count": 17,
      "outputs": [
        {
          "output_type": "display_data",
          "data": {
            "text/plain": [
              "<Figure size 640x480 with 1 Axes>"
            ],
            "image/png": "[encoded data removed]"
          },
          "metadata": {}
        }
      ]
    },
    {
      "cell_type": "markdown",
      "source": [
        "Looking at the risk tolerance of 2007, we see that a significant number of individuals had risk tolerance close to one.Meaning the investment ws more skewed towards the risky assets as compared to the riskless assets."
      ],
      "metadata": {
        "id": "r_ZHaH3X10uF"
      }
    },
    {
      "cell_type": "code",
      "source": [
        "sns.distplot(dataset2['RT09'], hist=True, kde=False,\n",
        "             bins=int(180/5), color = 'blue',\n",
        "             hist_kws={'edgecolor':'black'});"
      ],
      "metadata": {
        "colab": {
          "base_uri": "https://localhost:8080/",
          "height": 449
        },
        "id": "BvfKb5qh1vz5",
        "outputId": "75027143-7496-4598-bbac-e9c988eac53b"
      },
      "execution_count": 18,
      "outputs": [
        {
          "output_type": "display_data",
          "data": {
            "text/plain": [
              "<Figure size 640x480 with 1 Axes>"
            ],
            "image/png": "[encoded data removed]"
          },
          "metadata": {}
        }
      ]
    },
    {
      "cell_type": "markdown",
      "source": [
        "The behavior of the individuals reversed in 2009 after crisis and majority of the investment was in risk free assets. Overall risk tolerance decreased, which is shown by majority of risk tolerance being close to 0 in 2009."
      ],
      "metadata": {
        "id": "vxzO7kDO2AWI"
      }
    },
    {
      "cell_type": "code",
      "source": [
        "dataset3 = copy.deepcopy(dataset2)"
      ],
      "metadata": {
        "id": "OPnKhbJZ15-y"
      },
      "execution_count": 19,
      "outputs": []
    },
    {
      "cell_type": "markdown",
      "source": [
        "Investors whose risk tolerance change between 2007 and 2009 was less than 10%"
      ],
      "metadata": {
        "id": "Az6bCm1l21Aq"
      }
    },
    {
      "cell_type": "code",
      "source": [
        "dataset3 = dataset3[dataset3['PercentageChange']<=.1]"
      ],
      "metadata": {
        "id": "N3-7vW3d2FnG"
      },
      "execution_count": 20,
      "outputs": []
    },
    {
      "cell_type": "markdown",
      "source": [
        "We assign the true risk tolerance as the average risk tolerance of these intelligent investors between 2007 and 2009. This is the predicted variable for this case study. The purpose would be to predict the true risk tolerance of an individuals given the demographic, financial and willingness to take risk related features."
      ],
      "metadata": {
        "id": "z0LRcAWT27TB"
      }
    },
    {
      "cell_type": "code",
      "source": [
        "dataset3['TrueRiskTolerance'] = (dataset3['RT07'] + dataset3['RT09'])/2"
      ],
      "metadata": {
        "id": "wk_Umyx528A2"
      },
      "execution_count": 21,
      "outputs": []
    },
    {
      "cell_type": "code",
      "source": [
        "# drop unnecessary labels\n",
        "dataset3.drop(labels=['RT07', 'RT09'], axis=1, inplace=True)\n",
        "dataset3.drop(labels=['PercentageChange'], axis=1, inplace=True)"
      ],
      "metadata": {
        "id": "93JSw_kO3CCQ"
      },
      "execution_count": 22,
      "outputs": []
    },
    {
      "cell_type": "markdown",
      "source": [
        "## Feature Elimination:\n",
        "\n",
        "In order to filter the features further we do the following:\n",
        "\n",
        "Check the description in the Data Dictionary (https://www.federalreserve.gov/econres/files/codebk2009p.txt, https://www.federalreserve.gov/econresdata/scf/files/fedstables.macro.txt)and only keep the features that are intuitive\n",
        "The description is as follows:\n",
        "\n",
        "AGE: There are 6 age categories, where 1 represents age less than 35 and 6 represents age more than 75.\n",
        "\n",
        "EDUC: There are 4 education categories, where 1 represents no high school and 4 represents college degree.\n",
        "\n",
        "MARRIED: It represents marital status. There are two categories where 1 represents married and 2 represents unmarried.\n",
        "\n",
        "OCCU: It represents occupation category. 1 represents managerial category and 4 represents unemployed.\n",
        "\n",
        "KIDS: It represents number of kids.\n",
        "NWCAT: It represents net worth category. There are 5 categories, where 1 net worth less than 25 percentile and 5 represents net worth more than 90th percentile.\n",
        "\n",
        "INCCL: It represents income category. There are 5 categories, where 1 income less than 10,000 and 5 represents net worth more than 100,000\n",
        "\n",
        "RISK: It represents the willingness to take risk on a scale of 1 to 4, where 1 represents highest level of willingness to take risk.\n",
        "\n",
        "Keep only the intuitive factors as of 2007 only and remove all the intermediate features and features related to 2009, as the variables of 2007 are the only ones required for predicting the risk tolerance."
      ],
      "metadata": {
        "id": "-hL7tcy02gAJ"
      }
    },
    {
      "cell_type": "code",
      "source": [
        "keep_list2 = ['AGE07','EDCL07','MARRIED07','KIDS07','OCCAT107','INCOME07','RISK07','NETWORTH07','TrueRiskTolerance'\n",
        "]\n",
        "\n",
        "drop_list2 = [col for col in dataset3.columns if col not in keep_list2]\n",
        "\n",
        "dataset3.drop(labels=drop_list2, axis=1, inplace=True)"
      ],
      "metadata": {
        "id": "YJL8Rp542hj4"
      },
      "execution_count": 23,
      "outputs": []
    },
    {
      "cell_type": "code",
      "source": [
        "dataset3.head()"
      ],
      "metadata": {
        "colab": {
          "base_uri": "https://localhost:8080/",
          "height": 206
        },
        "id": "IKyBA8M7315S",
        "outputId": "26fea1b4-3010-4be8-87c2-da202e38bc3b"
      },
      "execution_count": 28,
      "outputs": [
        {
          "output_type": "execute_result",
          "data": {
            "text/plain": [
              "      AGE07  EDCL07  MARRIED07  KIDS07  OCCAT107      INCOME07  RISK07  \\\n",
              "60       77       2          1       0         3  3.141680e+04       4   \n",
              "425      55       4          1       1         2  2.779588e+06       2   \n",
              "1122     85       4          1       0         2  3.727417e+05       4   \n",
              "1190     40       2          1       3         1  5.324882e+04       3   \n",
              "1228     70       2          1       0         2  3.716767e+04       3   \n",
              "\n",
              "        NETWORTH07  TrueRiskTolerance  \n",
              "60    2.152490e+05           0.199511  \n",
              "425   4.964759e+07           0.641458  \n",
              "1122  5.837768e+07           0.589943  \n",
              "1190  2.688929e+05           0.434127  \n",
              "1228  2.015066e+06           0.228218  "
            ],
            "text/html": [
              "\n",
              "  <div id=\"df-f3887e0e-9117-4487-8822-10851b88f91e\" class=\"colab-df-container\">\n",
              "    <div>\n",
              "<style scoped>\n",
              "    .dataframe tbody tr th:only-of-type {\n",
              "        vertical-align: middle;\n",
              "    }\n",
              "\n",
              "    .dataframe tbody tr th {\n",
              "        vertical-align: top;\n",
              "    }\n",
              "\n",
              "    .dataframe thead th {\n",
              "        text-align: right;\n",
              "    }\n",
              "</style>\n",
              "<table border=\"1\" class=\"dataframe\">\n",
              "  <thead>\n",
              "    <tr style=\"text-align: right;\">\n",
              "      <th></th>\n",
              "      <th>AGE07</th>\n",
              "      <th>EDCL07</th>\n",
              "      <th>MARRIED07</th>\n",
              "      <th>KIDS07</th>\n",
              "      <th>OCCAT107</th>\n",
              "      <th>INCOME07</th>\n",
              "      <th>RISK07</th>\n",
              "      <th>NETWORTH07</th>\n",
              "      <th>TrueRiskTolerance</th>\n",
              "    </tr>\n",
              "  </thead>\n",
              "  <tbody>\n",
              "    <tr>\n",
              "      <th>60</th>\n",
              "      <td>77</td>\n",
              "      <td>2</td>\n",
              "      <td>1</td>\n",
              "      <td>0</td>\n",
              "      <td>3</td>\n",
              "      <td>3.141680e+04</td>\n",
              "      <td>4</td>\n",
              "      <td>2.152490e+05</td>\n",
              "      <td>0.199511</td>\n",
              "    </tr>\n",
              "    <tr>\n",
              "      <th>425</th>\n",
              "      <td>55</td>\n",
              "      <td>4</td>\n",
              "      <td>1</td>\n",
              "      <td>1</td>\n",
              "      <td>2</td>\n",
              "      <td>2.779588e+06</td>\n",
              "      <td>2</td>\n",
              "      <td>4.964759e+07</td>\n",
              "      <td>0.641458</td>\n",
              "    </tr>\n",
              "    <tr>\n",
              "      <th>1122</th>\n",
              "      <td>85</td>\n",
              "      <td>4</td>\n",
              "      <td>1</td>\n",
              "      <td>0</td>\n",
              "      <td>2</td>\n",
              "      <td>3.727417e+05</td>\n",
              "      <td>4</td>\n",
              "      <td>5.837768e+07</td>\n",
              "      <td>0.589943</td>\n",
              "    </tr>\n",
              "    <tr>\n",
              "      <th>1190</th>\n",
              "      <td>40</td>\n",
              "      <td>2</td>\n",
              "      <td>1</td>\n",
              "      <td>3</td>\n",
              "      <td>1</td>\n",
              "      <td>5.324882e+04</td>\n",
              "      <td>3</td>\n",
              "      <td>2.688929e+05</td>\n",
              "      <td>0.434127</td>\n",
              "    </tr>\n",
              "    <tr>\n",
              "      <th>1228</th>\n",
              "      <td>70</td>\n",
              "      <td>2</td>\n",
              "      <td>1</td>\n",
              "      <td>0</td>\n",
              "      <td>2</td>\n",
              "      <td>3.716767e+04</td>\n",
              "      <td>3</td>\n",
              "      <td>2.015066e+06</td>\n",
              "      <td>0.228218</td>\n",
              "    </tr>\n",
              "  </tbody>\n",
              "</table>\n",
              "</div>\n",
              "    <div class=\"colab-df-buttons\">\n",
              "\n",
              "  <div class=\"colab-df-container\">\n",
              "    <button class=\"colab-df-convert\" onclick=\"convertToInteractive('df-f3887e0e-9117-4487-8822-10851b88f91e')\"\n",
              "            title=\"Convert this dataframe to an interactive table.\"\n",
              "            style=\"display:none;\">\n",
              "\n",
              "  <svg xmlns=\"http://www.w3.org/2000/svg\" height=\"24px\" viewBox=\"0 -960 960 960\">\n",
              "    <path d=\"M120-120v-720h720v720H120Zm60-500h600v-160H180v160Zm220 220h160v-160H400v160Zm0 220h160v-160H400v160ZM180-400h160v-160H180v160Zm440 0h160v-160H620v160ZM180-180h160v-160H180v160Zm440 0h160v-160H620v160Z\"/>\n",
              "  </svg>\n",
              "    </button>\n",
              "\n",
              "  <style>\n",
              "    .colab-df-container {\n",
              "      display:flex;\n",
              "      gap: 12px;\n",
              "    }\n",
              "\n",
              "    .colab-df-convert {\n",
              "      background-color: #E8F0FE;\n",
              "      border: none;\n",
              "      border-radius: 50%;\n",
              "      cursor: pointer;\n",
              "      display: none;\n",
              "      fill: #1967D2;\n",
              "      height: 32px;\n",
              "      padding: 0 0 0 0;\n",
              "      width: 32px;\n",
              "    }\n",
              "\n",
              "    .colab-df-convert:hover {\n",
              "      background-color: #E2EBFA;\n",
              "      box-shadow: 0px 1px 2px rgba(60, 64, 67, 0.3), 0px 1px 3px 1px rgba(60, 64, 67, 0.15);\n",
              "      fill: #174EA6;\n",
              "    }\n",
              "\n",
              "    .colab-df-buttons div {\n",
              "      margin-bottom: 4px;\n",
              "    }\n",
              "\n",
              "    [theme=dark] .colab-df-convert {\n",
              "      background-color: #3B4455;\n",
              "      fill: #D2E3FC;\n",
              "    }\n",
              "\n",
              "    [theme=dark] .colab-df-convert:hover {\n",
              "      background-color: #434B5C;\n",
              "      box-shadow: 0px 1px 3px 1px rgba(0, 0, 0, 0.15);\n",
              "      filter: drop-shadow(0px 1px 2px rgba(0, 0, 0, 0.3));\n",
              "      fill: #FFFFFF;\n",
              "    }\n",
              "  </style>\n",
              "\n",
              "    <script>\n",
              "      const buttonEl =\n",
              "        document.querySelector('#df-f3887e0e-9117-4487-8822-10851b88f91e button.colab-df-convert');\n",
              "      buttonEl.style.display =\n",
              "        google.colab.kernel.accessAllowed ? 'block' : 'none';\n",
              "\n",
              "      async function convertToInteractive(key) {\n",
              "        const element = document.querySelector('#df-f3887e0e-9117-4487-8822-10851b88f91e');\n",
              "        const dataTable =\n",
              "          await google.colab.kernel.invokeFunction('convertToInteractive',\n",
              "                                                    [key], {});\n",
              "        if (!dataTable) return;\n",
              "\n",
              "        const docLinkHtml = 'Like what you see? Visit the ' +\n",
              "          '<a target=\"_blank\" href=https://colab.research.google.com/notebooks/data_table.ipynb>data table notebook</a>'\n",
              "          + ' to learn more about interactive tables.';\n",
              "        element.innerHTML = '';\n",
              "        dataTable['output_type'] = 'display_data';\n",
              "        await google.colab.output.renderOutput(dataTable, element);\n",
              "        const docLink = document.createElement('div');\n",
              "        docLink.innerHTML = docLinkHtml;\n",
              "        element.appendChild(docLink);\n",
              "      }\n",
              "    </script>\n",
              "  </div>\n",
              "\n",
              "\n",
              "<div id=\"df-b8209b3c-6c4e-46e8-8f6c-903272f0967b\">\n",
              "  <button class=\"colab-df-quickchart\" onclick=\"quickchart('df-b8209b3c-6c4e-46e8-8f6c-903272f0967b')\"\n",
              "            title=\"Suggest charts\"\n",
              "            style=\"display:none;\">\n",
              "\n",
              "<svg xmlns=\"http://www.w3.org/2000/svg\" height=\"24px\"viewBox=\"0 0 24 24\"\n",
              "     width=\"24px\">\n",
              "    <g>\n",
              "        <path d=\"M19 3H5c-1.1 0-2 .9-2 2v14c0 1.1.9 2 2 2h14c1.1 0 2-.9 2-2V5c0-1.1-.9-2-2-2zM9 17H7v-7h2v7zm4 0h-2V7h2v10zm4 0h-2v-4h2v4z\"/>\n",
              "    </g>\n",
              "</svg>\n",
              "  </button>\n",
              "\n",
              "<style>\n",
              "  .colab-df-quickchart {\n",
              "      --bg-color: #E8F0FE;\n",
              "      --fill-color: #1967D2;\n",
              "      --hover-bg-color: #E2EBFA;\n",
              "      --hover-fill-color: #174EA6;\n",
              "      --disabled-fill-color: #AAA;\n",
              "      --disabled-bg-color: #DDD;\n",
              "  }\n",
              "\n",
              "  [theme=dark] .colab-df-quickchart {\n",
              "      --bg-color: #3B4455;\n",
              "      --fill-color: #D2E3FC;\n",
              "      --hover-bg-color: #434B5C;\n",
              "      --hover-fill-color: #FFFFFF;\n",
              "      --disabled-bg-color: #3B4455;\n",
              "      --disabled-fill-color: #666;\n",
              "  }\n",
              "\n",
              "  .colab-df-quickchart {\n",
              "    background-color: var(--bg-color);\n",
              "    border: none;\n",
              "    border-radius: 50%;\n",
              "    cursor: pointer;\n",
              "    display: none;\n",
              "    fill: var(--fill-color);\n",
              "    height: 32px;\n",
              "    padding: 0;\n",
              "    width: 32px;\n",
              "  }\n",
              "\n",
              "  .colab-df-quickchart:hover {\n",
              "    background-color: var(--hover-bg-color);\n",
              "    box-shadow: 0 1px 2px rgba(60, 64, 67, 0.3), 0 1px 3px 1px rgba(60, 64, 67, 0.15);\n",
              "    fill: var(--button-hover-fill-color);\n",
              "  }\n",
              "\n",
              "  .colab-df-quickchart-complete:disabled,\n",
              "  .colab-df-quickchart-complete:disabled:hover {\n",
              "    background-color: var(--disabled-bg-color);\n",
              "    fill: var(--disabled-fill-color);\n",
              "    box-shadow: none;\n",
              "  }\n",
              "\n",
              "  .colab-df-spinner {\n",
              "    border: 2px solid var(--fill-color);\n",
              "    border-color: transparent;\n",
              "    border-bottom-color: var(--fill-color);\n",
              "    animation:\n",
              "      spin 1s steps(1) infinite;\n",
              "  }\n",
              "\n",
              "  @keyframes spin {\n",
              "    0% {\n",
              "      border-color: transparent;\n",
              "      border-bottom-color: var(--fill-color);\n",
              "      border-left-color: var(--fill-color);\n",
              "    }\n",
              "    20% {\n",
              "      border-color: transparent;\n",
              "      border-left-color: var(--fill-color);\n",
              "      border-top-color: var(--fill-color);\n",
              "    }\n",
              "    30% {\n",
              "      border-color: transparent;\n",
              "      border-left-color: var(--fill-color);\n",
              "      border-top-color: var(--fill-color);\n",
              "      border-right-color: var(--fill-color);\n",
              "    }\n",
              "    40% {\n",
              "      border-color: transparent;\n",
              "      border-right-color: var(--fill-color);\n",
              "      border-top-color: var(--fill-color);\n",
              "    }\n",
              "    60% {\n",
              "      border-color: transparent;\n",
              "      border-right-color: var(--fill-color);\n",
              "    }\n",
              "    80% {\n",
              "      border-color: transparent;\n",
              "      border-right-color: var(--fill-color);\n",
              "      border-bottom-color: var(--fill-color);\n",
              "    }\n",
              "    90% {\n",
              "      border-color: transparent;\n",
              "      border-bottom-color: var(--fill-color);\n",
              "    }\n",
              "  }\n",
              "</style>\n",
              "\n",
              "  <script>\n",
              "    async function quickchart(key) {\n",
              "      const quickchartButtonEl =\n",
              "        document.querySelector('#' + key + ' button');\n",
              "      quickchartButtonEl.disabled = true;  // To prevent multiple clicks.\n",
              "      quickchartButtonEl.classList.add('colab-df-spinner');\n",
              "      try {\n",
              "        const charts = await google.colab.kernel.invokeFunction(\n",
              "            'suggestCharts', [key], {});\n",
              "      } catch (error) {\n",
              "        console.error('Error during call to suggestCharts:', error);\n",
              "      }\n",
              "      quickchartButtonEl.classList.remove('colab-df-spinner');\n",
              "      quickchartButtonEl.classList.add('colab-df-quickchart-complete');\n",
              "    }\n",
              "    (() => {\n",
              "      let quickchartButtonEl =\n",
              "        document.querySelector('#df-b8209b3c-6c4e-46e8-8f6c-903272f0967b button');\n",
              "      quickchartButtonEl.style.display =\n",
              "        google.colab.kernel.accessAllowed ? 'block' : 'none';\n",
              "    })();\n",
              "  </script>\n",
              "</div>\n",
              "    </div>\n",
              "  </div>\n"
            ]
          },
          "metadata": {},
          "execution_count": 28
        }
      ]
    },
    {
      "cell_type": "code",
      "source": [
        "# correlation among features\n",
        "\n",
        "correlation = dataset3.corr()\n",
        "plt.figure(figsize=(10,10))\n",
        "plt.title('Correlation Matrix')\n",
        "sns.heatmap(correlation, vmax=1, square=True,annot=True,cmap='inferno');"
      ],
      "metadata": {
        "colab": {
          "base_uri": "https://localhost:8080/",
          "height": 871
        },
        "id": "Be-7cLmW3QwK",
        "outputId": "d64596f5-1620-463c-979f-66f8a0273ced"
      },
      "execution_count": 27,
      "outputs": [
        {
          "output_type": "display_data",
          "data": {
            "text/plain": [
              "<Figure size 1000x1000 with 2 Axes>"
            ],
            "image/png": "[encoded data removed]"
          },
          "metadata": {}
        }
      ]
    },
    {
      "cell_type": "markdown",
      "source": [
        "Looking at the correlation chart above, networth and income are positively correlated with the risk tolerance. With more number of kids and marriage the risk tolerance decreases. As the willingness to take risk decreases the risk tolerance decreases. With age there is a positive relationship of the risk tolerance."
      ],
      "metadata": {
        "id": "aiFEBcL_3vOe"
      }
    },
    {
      "cell_type": "code",
      "source": [
        "dataset3.info"
      ],
      "metadata": {
        "colab": {
          "base_uri": "https://localhost:8080/"
        },
        "id": "xMjXLj3K6Nns",
        "outputId": "30f989fa-121a-4af9-a9cf-acd1cb59bfb1"
      },
      "execution_count": 43,
      "outputs": [
        {
          "output_type": "execute_result",
          "data": {
            "text/plain": [
              "<bound method DataFrame.info of        AGE07  EDCL07  MARRIED07  KIDS07  OCCAT107      INCOME07  RISK07  \\\n",
              "60        77       2          1       0         3  3.141680e+04       4   \n",
              "425       55       4          1       1         2  2.779588e+06       2   \n",
              "1122      85       4          1       0         2  3.727417e+05       4   \n",
              "1190      40       2          1       3         1  5.324882e+04       3   \n",
              "1228      70       2          1       0         2  3.716767e+04       3   \n",
              "...      ...     ...        ...     ...       ...           ...     ...   \n",
              "19190     53       4          1       0         1  1.810460e+05       2   \n",
              "19191     53       4          1       0         1  1.821109e+05       2   \n",
              "19192     53       4          1       0         1  1.810460e+05       2   \n",
              "19193     53       4          1       0         1  1.810460e+05       2   \n",
              "19194     53       4          1       0         1  1.821109e+05       2   \n",
              "\n",
              "         NETWORTH07  TrueRiskTolerance  \n",
              "60     2.152490e+05           0.199511  \n",
              "425    4.964759e+07           0.641458  \n",
              "1122   5.837768e+07           0.589943  \n",
              "1190   2.688929e+05           0.434127  \n",
              "1228   2.015066e+06           0.228218  \n",
              "...             ...                ...  \n",
              "19190  7.580575e+05           0.352094  \n",
              "19191  7.570219e+05           0.357442  \n",
              "19192  7.580575e+05           0.352094  \n",
              "19193  7.580575e+05           0.352094  \n",
              "19194  7.580575e+05           0.352094  \n",
              "\n",
              "[355 rows x 9 columns]>"
            ]
          },
          "metadata": {},
          "execution_count": 43
        }
      ]
    },
    {
      "cell_type": "markdown",
      "source": [
        "# Modelling"
      ],
      "metadata": {
        "id": "tFpZAAwZ4DJy"
      }
    },
    {
      "cell_type": "code",
      "source": [
        "from sklearn.model_selection import train_test_split\n",
        "from sklearn.model_selection import KFold\n",
        "from sklearn.model_selection import cross_val_score\n",
        "from sklearn.model_selection import GridSearchCV"
      ],
      "metadata": {
        "id": "tlJ4EJc44IJf"
      },
      "execution_count": 29,
      "outputs": []
    },
    {
      "cell_type": "code",
      "source": [
        "# split out validation dataset for the end\n",
        "Y= dataset3[\"TrueRiskTolerance\"]\n",
        "X = dataset3.loc[:, dataset3.columns != 'TrueRiskTolerance']\n",
        "# scaler = StandardScaler().fit(X)\n",
        "# rescaledX = scaler.transform(X)\n",
        "validation_size = 0.2\n",
        "seed = 3\n",
        "X_train, X_validation, Y_train, Y_validation = train_test_split(X, Y, test_size=validation_size, random_state=seed)"
      ],
      "metadata": {
        "id": "kawx7XQ53UtU"
      },
      "execution_count": 30,
      "outputs": []
    },
    {
      "cell_type": "code",
      "source": [
        "# test options for regression\n",
        "num_folds = 10\n",
        "scoring = 'r2'"
      ],
      "metadata": {
        "id": "y3ATB-wr4JvA"
      },
      "execution_count": 31,
      "outputs": []
    },
    {
      "cell_type": "markdown",
      "source": [
        "## Compare different models"
      ],
      "metadata": {
        "id": "kfMeRBBk4T1r"
      }
    },
    {
      "cell_type": "code",
      "source": [
        "from sklearn.linear_model import LinearRegression\n",
        "from sklearn.linear_model import Lasso\n",
        "from sklearn.linear_model import ElasticNet\n",
        "from sklearn.tree import DecisionTreeRegressor\n",
        "from sklearn.neighbors import KNeighborsRegressor\n",
        "from sklearn.svm import SVR\n",
        "from sklearn.ensemble import RandomForestRegressor\n",
        "from sklearn.ensemble import GradientBoostingRegressor\n",
        "from sklearn.ensemble import ExtraTreesRegressor\n",
        "from sklearn.ensemble import AdaBoostRegressor\n",
        "from sklearn.neural_network import MLPRegressor"
      ],
      "metadata": {
        "id": "p-oMhO-m4Zz_"
      },
      "execution_count": 32,
      "outputs": []
    },
    {
      "cell_type": "code",
      "source": [
        "# spot check the algorithms\n",
        "models = []\n",
        "models.append(('LR', LinearRegression()))\n",
        "models.append(('LASSO', Lasso()))\n",
        "models.append(('EN', ElasticNet()))\n",
        "models.append(('KNN', KNeighborsRegressor()))\n",
        "models.append(('CART', DecisionTreeRegressor()))\n",
        "models.append(('SVR', SVR()))\n",
        "#Neural Network\n",
        "#models.append(('MLP', MLPRegressor()))\n",
        "#Ensable Models\n",
        "# Boosting methods\n",
        "models.append(('ABR', AdaBoostRegressor()))\n",
        "models.append(('GBR', GradientBoostingRegressor()))\n",
        "# Bagging methods\n",
        "models.append(('RFR', RandomForestRegressor()))\n",
        "models.append(('ETR', ExtraTreesRegressor()))"
      ],
      "metadata": {
        "id": "XltC8TBM4Rga"
      },
      "execution_count": 33,
      "outputs": []
    },
    {
      "cell_type": "markdown",
      "source": [
        "k-fold cross validation"
      ],
      "metadata": {
        "id": "AplbAlEw4fRu"
      }
    },
    {
      "cell_type": "code",
      "source": [
        "results = []\n",
        "names = []\n",
        "for name, model in models:\n",
        "    kfold = KFold(n_splits=num_folds)\n",
        "    #converted mean square error to positive. The lower the beter\n",
        "    cv_results = -1* cross_val_score(model, X_train, Y_train, cv=kfold, scoring=scoring)\n",
        "    results.append(cv_results)\n",
        "    names.append(name)\n",
        "    msg = \"%s: %f (%f)\" % (name, cv_results.mean(), cv_results.std())\n",
        "    print(msg)"
      ],
      "metadata": {
        "colab": {
          "base_uri": "https://localhost:8080/"
        },
        "id": "3c-Nq2k04bgO",
        "outputId": "3c820cec-4a02-4271-8f01-9becc2755360"
      },
      "execution_count": 35,
      "outputs": [
        {
          "output_type": "stream",
          "name": "stdout",
          "text": [
            "LR: -0.105127 (0.103969)\n",
            "LASSO: -0.023692 (0.118324)\n",
            "EN: -0.031108 (0.117770)\n",
            "KNN: -0.409466 (0.166879)\n",
            "CART: -0.610731 (0.195349)\n",
            "SVR: -0.101482 (0.092744)\n",
            "ABR: -0.382390 (0.068271)\n",
            "GBR: -0.653019 (0.104185)\n",
            "RFR: -0.738529 (0.072908)\n",
            "ETR: -0.750014 (0.113808)\n"
          ]
        }
      ]
    },
    {
      "cell_type": "code",
      "source": [
        "# compare algorithms\n",
        "fig = plt.figure()\n",
        "fig.suptitle('Algorithm Comparison')\n",
        "ax = fig.add_subplot(111)\n",
        "plt.boxplot(results)\n",
        "ax.set_xticklabels(names)\n",
        "fig.set_size_inches(10,6)\n",
        "plt.show()"
      ],
      "metadata": {
        "colab": {
          "base_uri": "https://localhost:8080/",
          "height": 582
        },
        "id": "ddYOkfdZ4iMz",
        "outputId": "9b3d0a95-dcb0-426c-f0f4-e0e6e5321d27"
      },
      "execution_count": 37,
      "outputs": [
        {
          "output_type": "display_data",
          "data": {
            "text/plain": [
              "<Figure size 1000x600 with 1 Axes>"
            ],
            "image/png": "[encoded data removed]"
          },
          "metadata": {}
        }
      ]
    },
    {
      "cell_type": "markdown",
      "source": [
        "The non linear models perform better than the linear models, which means that a non linear relationship between the risk tolerance and the difference variables use to predict it. Given random forest regression is one of the best methods, we use it for further grid search."
      ],
      "metadata": {
        "id": "NpiXLBnl47VW"
      }
    },
    {
      "cell_type": "markdown",
      "source": [
        "## Model Tuning and Grid Search"
      ],
      "metadata": {
        "id": "5O4WsE_95Ank"
      }
    },
    {
      "cell_type": "code",
      "source": [
        "# Grid search : RandomForestRegressor\n",
        "'''\n",
        "n_estimators : integer, optional (default=10)\n",
        "    The number of trees in the forest.\n",
        "'''\n",
        "param_grid = {'n_estimators': [50,100,150,200,250,300,350,400]}\n",
        "model = RandomForestRegressor()\n",
        "kfold = KFold(n_splits=num_folds)\n",
        "grid = GridSearchCV(estimator=model, param_grid=param_grid, scoring=scoring, cv=kfold)\n",
        "grid_result = grid.fit(X_train, Y_train)\n",
        "print(\"Best: %f using %s\" % (grid_result.best_score_, grid_result.best_params_))\n",
        "means = grid_result.cv_results_['mean_test_score']\n",
        "stds = grid_result.cv_results_['std_test_score']\n",
        "params = grid_result.cv_results_['params']\n",
        "for mean, stdev, param in zip(means, stds, params):\n",
        "    print(\"%f (%f) with: %r\" % (mean, stdev, param))\n"
      ],
      "metadata": {
        "colab": {
          "base_uri": "https://localhost:8080/"
        },
        "id": "vfiAaae341r3",
        "outputId": "09bc1590-bd7a-41de-df9f-c89f35713f4d"
      },
      "execution_count": 39,
      "outputs": [
        {
          "output_type": "stream",
          "name": "stdout",
          "text": [
            "Best: 0.736340 using {'n_estimators': 150}\n",
            "0.732511 (0.096521) with: {'n_estimators': 50}\n",
            "0.723788 (0.089027) with: {'n_estimators': 100}\n",
            "0.736340 (0.083578) with: {'n_estimators': 150}\n",
            "0.733354 (0.085853) with: {'n_estimators': 200}\n",
            "0.732660 (0.086404) with: {'n_estimators': 250}\n",
            "0.736139 (0.080244) with: {'n_estimators': 300}\n",
            "0.730507 (0.080771) with: {'n_estimators': 350}\n",
            "0.735878 (0.080719) with: {'n_estimators': 400}\n"
          ]
        }
      ]
    },
    {
      "cell_type": "markdown",
      "source": [
        "## Final Model"
      ],
      "metadata": {
        "id": "ooAsCNoM5Npa"
      }
    },
    {
      "cell_type": "code",
      "source": [
        "# prepare model\n",
        "model = RandomForestRegressor(n_estimators = 250)\n",
        "model.fit(X_train, Y_train)"
      ],
      "metadata": {
        "colab": {
          "base_uri": "https://localhost:8080/",
          "height": 74
        },
        "id": "jWXIIYd15ILW",
        "outputId": "32b9f433-1d02-443a-c35d-cffb0b362d6f"
      },
      "execution_count": 40,
      "outputs": [
        {
          "output_type": "execute_result",
          "data": {
            "text/plain": [
              "RandomForestRegressor(n_estimators=250)"
            ],
            "text/html": [
              "<style>#sk-container-id-1 {color: black;background-color: white;}#sk-container-id-1 pre{padding: 0;}#sk-container-id-1 div.sk-toggleable {background-color: white;}#sk-container-id-1 label.sk-toggleable__label {cursor: pointer;display: block;width: 100%;margin-bottom: 0;padding: 0.3em;box-sizing: border-box;text-align: center;}#sk-container-id-1 label.sk-toggleable__label-arrow:before {content: \"▸\";float: left;margin-right: 0.25em;color: #696969;}#sk-container-id-1 label.sk-toggleable__label-arrow:hover:before {color: black;}#sk-container-id-1 div.sk-estimator:hover label.sk-toggleable__label-arrow:before {color: black;}#sk-container-id-1 div.sk-toggleable__content {max-height: 0;max-width: 0;overflow: hidden;text-align: left;background-color: #f0f8ff;}#sk-container-id-1 div.sk-toggleable__content pre {margin: 0.2em;color: black;border-radius: 0.25em;background-color: #f0f8ff;}#sk-container-id-1 input.sk-toggleable__control:checked~div.sk-toggleable__content {max-height: 200px;max-width: 100%;overflow: auto;}#sk-container-id-1 input.sk-toggleable__control:checked~label.sk-toggleable__label-arrow:before {content: \"▾\";}#sk-container-id-1 div.sk-estimator input.sk-toggleable__control:checked~label.sk-toggleable__label {background-color: #d4ebff;}#sk-container-id-1 div.sk-label input.sk-toggleable__control:checked~label.sk-toggleable__label {background-color: #d4ebff;}#sk-container-id-1 input.sk-hidden--visually {border: 0;clip: rect(1px 1px 1px 1px);clip: rect(1px, 1px, 1px, 1px);height: 1px;margin: -1px;overflow: hidden;padding: 0;position: absolute;width: 1px;}#sk-container-id-1 div.sk-estimator {font-family: monospace;background-color: #f0f8ff;border: 1px dotted black;border-radius: 0.25em;box-sizing: border-box;margin-bottom: 0.5em;}#sk-container-id-1 div.sk-estimator:hover {background-color: #d4ebff;}#sk-container-id-1 div.sk-parallel-item::after {content: \"\";width: 100%;border-bottom: 1px solid gray;flex-grow: 1;}#sk-container-id-1 div.sk-label:hover label.sk-toggleable__label {background-color: #d4ebff;}#sk-container-id-1 div.sk-serial::before {content: \"\";position: absolute;border-left: 1px solid gray;box-sizing: border-box;top: 0;bottom: 0;left: 50%;z-index: 0;}#sk-container-id-1 div.sk-serial {display: flex;flex-direction: column;align-items: center;background-color: white;padding-right: 0.2em;padding-left: 0.2em;position: relative;}#sk-container-id-1 div.sk-item {position: relative;z-index: 1;}#sk-container-id-1 div.sk-parallel {display: flex;align-items: stretch;justify-content: center;background-color: white;position: relative;}#sk-container-id-1 div.sk-item::before, #sk-container-id-1 div.sk-parallel-item::before {content: \"\";position: absolute;border-left: 1px solid gray;box-sizing: border-box;top: 0;bottom: 0;left: 50%;z-index: -1;}#sk-container-id-1 div.sk-parallel-item {display: flex;flex-direction: column;z-index: 1;position: relative;background-color: white;}#sk-container-id-1 div.sk-parallel-item:first-child::after {align-self: flex-end;width: 50%;}#sk-container-id-1 div.sk-parallel-item:last-child::after {align-self: flex-start;width: 50%;}#sk-container-id-1 div.sk-parallel-item:only-child::after {width: 0;}#sk-container-id-1 div.sk-dashed-wrapped {border: 1px dashed gray;margin: 0 0.4em 0.5em 0.4em;box-sizing: border-box;padding-bottom: 0.4em;background-color: white;}#sk-container-id-1 div.sk-label label {font-family: monospace;font-weight: bold;display: inline-block;line-height: 1.2em;}#sk-container-id-1 div.sk-label-container {text-align: center;}#sk-container-id-1 div.sk-container {/* jupyter's `normalize.less` sets `[hidden] { display: none; }` but bootstrap.min.css set `[hidden] { display: none !important; }` so we also need the `!important` here to be able to override the default hidden behavior on the sphinx rendered scikit-learn.org. See: https://github.com/scikit-learn/scikit-learn/issues/21755 */display: inline-block !important;position: relative;}#sk-container-id-1 div.sk-text-repr-fallback {display: none;}</style><div id=\"sk-container-id-1\" class=\"sk-top-container\"><div class=\"sk-text-repr-fallback\"><pre>RandomForestRegressor(n_estimators=250)</pre><b>In a Jupyter environment, please rerun this cell to show the HTML representation or trust the notebook. <br />On GitHub, the HTML representation is unable to render, please try loading this page with nbviewer.org.</b></div><div class=\"sk-container\" hidden><div class=\"sk-item\"><div class=\"sk-estimator sk-toggleable\"><input class=\"sk-toggleable__control sk-hidden--visually\" id=\"sk-estimator-id-1\" type=\"checkbox\" checked><label for=\"sk-estimator-id-1\" class=\"sk-toggleable__label sk-toggleable__label-arrow\">RandomForestRegressor</label><div class=\"sk-toggleable__content\"><pre>RandomForestRegressor(n_estimators=250)</pre></div></div></div></div></div>"
            ]
          },
          "metadata": {},
          "execution_count": 40
        }
      ]
    },
    {
      "cell_type": "code",
      "source": [
        "from sklearn.metrics import r2_score\n",
        "predictions_train = model.predict(X_train)\n",
        "print(r2_score(Y_train, predictions_train))"
      ],
      "metadata": {
        "colab": {
          "base_uri": "https://localhost:8080/"
        },
        "id": "ms3xnaJr5SyF",
        "outputId": "4292cd9c-d952-4324-899f-a30945618c38"
      },
      "execution_count": 41,
      "outputs": [
        {
          "output_type": "stream",
          "name": "stdout",
          "text": [
            "0.9625609339324688\n"
          ]
        }
      ]
    },
    {
      "cell_type": "code",
      "source": [
        "# estimate accuracy on validation set\n",
        "# transform the validation dataset\n",
        "from sklearn.metrics import mean_squared_error\n",
        "from sklearn.metrics import r2_score\n",
        "#rescaledValidationX = scaler.transform(X_validation)\n",
        "predictions = model.predict(X_validation)\n",
        "print(mean_squared_error(Y_validation, predictions))\n",
        "print(r2_score(Y_validation, predictions))"
      ],
      "metadata": {
        "colab": {
          "base_uri": "https://localhost:8080/"
        },
        "id": "RYIEvg695ThN",
        "outputId": "16a2162f-2622-46fb-cc31-5c251215655d"
      },
      "execution_count": 42,
      "outputs": [
        {
          "output_type": "stream",
          "name": "stdout",
          "text": [
            "0.0072432923643041035\n",
            "0.7779585359877188\n"
          ]
        }
      ]
    }
  ]
}